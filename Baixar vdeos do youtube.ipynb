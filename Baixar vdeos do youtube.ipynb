{
 "cells": [
  {
   "cell_type": "code",
   "execution_count": 5,
   "metadata": {},
   "outputs": [],
   "source": [
    "from pytube import YouTube\n",
    "from pytube.exceptions import RegexMatchError, VideoUnavailable\n",
    "\n",
    "def download_video(url, save_path):\n",
    "    try:\n",
    "        yt = YouTube(url)\n",
    "        # Baixa o vídeo na melhor qualidade disponível\n",
    "        video = yt.streams.filter(progressive=True, file_extension='mp4').first()\n",
    "        video.download(save_path)\n",
    "        print(\"Download completo!\")\n",
    "    except RegexMatchError:\n",
    "        print(\"URL do vídeo inválido.\")\n",
    "    except VideoUnavailable:\n",
    "        print(\"O vídeo não está disponível para download.\")\n",
    "    except Exception as e:\n",
    "        print(f\"Ocorreu um erro: {e}\")\n",
    "\n",
    "# Cole o URL do vídeo do YouTube aqui\n",
    "video_url = input(\"Cole o URL do vídeo do YouTube: \")\n",
    "\n",
    "# Especifica o caminho onde você deseja salvar o vídeo\n",
    "save_path = input(\"Especifique o caminho onde você deseja salvar o vídeo: \")\n",
    "\n",
    "download_video(video_url, save_path)\n"
   ]
  },
  {
   "cell_type": "code",
   "execution_count": null,
   "metadata": {},
   "outputs": [],
   "source": [
    "from pytube import YouTube\n",
    "from moviepy.editor import VideoFileClip\n",
    "\n",
    "def download_audio(url, save_path):\n",
    "    try:\n",
    "        yt = YouTube(url)\n",
    "        # Obtém o stream de áudio\n",
    "        audio_stream = yt.streams.filter(only_audio=True).first()\n",
    "        # Baixa o arquivo de áudio\n",
    "        audio_file = audio_stream.download(output_path=save_path)\n",
    "        \n",
    "        # Converte o arquivo de vídeo para MP3\n",
    "        video_clip = VideoFileClip(audio_file)\n",
    "        audio_file_mp3 = audio_file[:-4] + \".mp3\"  # Altera a extensão para .mp3\n",
    "        video_clip.audio.write_audiofile(audio_file_mp3)\n",
    "        \n",
    "        # Remove o arquivo de vídeo original\n",
    "        video_clip.close()\n",
    "        os.remove(audio_file)\n",
    "        \n",
    "        print(\"Download do áudio completo!\")\n",
    "    except Exception as e:\n",
    "        print(f\"Ocorreu um erro: {e}\")\n",
    "\n",
    "# Cole o URL do vídeo do YouTube aqui\n",
    "video_url = input(\"Cole o URL do vídeo do YouTube: \")\n",
    "\n",
    "# Especifica o caminho onde você deseja salvar o áudio\n",
    "save_path = input(\"Especifique o caminho onde você deseja salvar o áudio: \")\n",
    "\n",
    "download_audio(video_url, save_path)\n"
   ]
  }
 ],
 "metadata": {
  "kernelspec": {
   "display_name": "base",
   "language": "python",
   "name": "python3"
  },
  "language_info": {
   "codemirror_mode": {
    "name": "ipython",
    "version": 3
   },
   "file_extension": ".py",
   "mimetype": "text/x-python",
   "name": "python",
   "nbconvert_exporter": "python",
   "pygments_lexer": "ipython3",
   "version": "3.11.4"
  }
 },
 "nbformat": 4,
 "nbformat_minor": 2
}
