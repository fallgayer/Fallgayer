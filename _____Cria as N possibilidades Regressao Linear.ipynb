{
 "cells": [
  {
   "cell_type": "markdown",
   "metadata": {},
   "source": [
    "## Cria as Funções para a N possibilidades da Regressão Linear\n"
   ]
  },
  {
   "cell_type": "markdown",
   "metadata": {},
   "source": [
    "Variável dependente e independentes para regressão\\\n",
    "y_col = 'body_mass_g'  # Variável dependente (exemplo)\\\n",
    "x_cols = ['bill_length_mm', 'bill_depth_mm', 'flipper_length_mm']  # Variáveis independentes (exemplo)"
   ]
  },
  {
   "cell_type": "code",
   "execution_count": 1,
   "metadata": {},
   "outputs": [],
   "source": [
    "import pandas as pd\n",
    "import seaborn as sns\n",
    "import itertools\n",
    "import statsmodels.api as sm"
   ]
  },
  {
   "cell_type": "code",
   "execution_count": 7,
   "metadata": {},
   "outputs": [],
   "source": [
    "# Carregar o conjunto de dados 'penguins' do Seaborn\n",
    "df = sns.load_dataset('penguins')\n",
    "\n",
    "# Renomear as colunas\n",
    "df=df.rename(columns={'bill_length_mm': 'compr bico'\n",
    "                  ,'bill_depth_mm': 'prof bico'\n",
    "                  ,'flipper_length_mm': 'nadadeira'\n",
    "                  , 'body_mass_g': 'massa'})\n",
    "\n",
    "# Remover linhas com valores ausentes para simplificar\n",
    "#df = df.dropna()\n",
    "# Preenche com a mediana\n",
    "# Calcular a mediana apenas para colunas numéricas específicas\n",
    "median_values = df.select_dtypes(include=[float, int]).median()\n",
    "# Preencher valores nulos com as medianas calculadas\n",
    "df.fillna(median_values, inplace=True)"
   ]
  },
  {
   "cell_type": "code",
   "execution_count": 8,
   "metadata": {},
   "outputs": [
    {
     "name": "stdout",
     "output_type": "stream",
     "text": [
      "     variable  coefficient combination           group\n",
      "0       const -4352.961325     species     ('Adelie',)\n",
      "1  compr bico    55.752674     species     ('Adelie',)\n",
      "2   prof bico   140.211778     species     ('Adelie',)\n",
      "3   nadadeira    17.472170     species     ('Adelie',)\n",
      "4       const -3157.530055     species  ('Chinstrap',)\n"
     ]
    }
   ],
   "source": [
    "# Identificar as variáveis categóricas\n",
    "categorical_cols = df.select_dtypes(include=['category', 'object']).columns.tolist()\n",
    "\n",
    "# Variável dependente e independentes para regressão\n",
    "y_col = 'massa'  # Variável dependente (exemplo)\n",
    "x_cols = ['compr bico', 'prof bico', 'nadadeira']  # Variáveis independentes (exemplo)\n",
    "\n",
    "# DataFrame para armazenar os coeficientes\n",
    "results_df = pd.DataFrame()\n",
    "\n",
    "# Gerar todas as combinações de variáveis categóricas\n",
    "for r in range(1, len(categorical_cols) + 1):\n",
    "    for comb in itertools.combinations(categorical_cols, r):\n",
    "        # Filtrar DataFrame por combinação de categorias\n",
    "        grouped = df.groupby(list(comb))\n",
    "\n",
    "        for group_name, group_data in grouped:\n",
    "            # Adicionar constante para o modelo de regressão\n",
    "            X = sm.add_constant(group_data[x_cols])\n",
    "            y = group_data[y_col]\n",
    "\n",
    "            # Ajustar o modelo de regressão linear\n",
    "            model = sm.OLS(y, X).fit()\n",
    "\n",
    "            # Extrair coeficientes e adicionar ao DataFrame de resultados\n",
    "            coef_df = model.params.reset_index()\n",
    "            coef_df.columns = ['variable', 'coefficient']\n",
    "            coef_df['combination'] = ', '.join(comb)\n",
    "            coef_df['group'] = str(group_name)\n",
    "\n",
    "            results_df = pd.concat([results_df, coef_df], ignore_index=True)\n",
    "\n",
    "# Exibir os primeiros resultados\n",
    "print(results_df.head())\n"
   ]
  },
  {
   "cell_type": "code",
   "execution_count": 9,
   "metadata": {},
   "outputs": [],
   "source": [
    "results_df.to_excel('modelos penguins.xlsx')"
   ]
  },
  {
   "cell_type": "code",
   "execution_count": 5,
   "metadata": {},
   "outputs": [
    {
     "name": "stdout",
     "output_type": "stream",
     "text": [
      "c:\\Python\n"
     ]
    }
   ],
   "source": [
    "import os\n",
    "\n",
    "# Verifica o diretório de trabalho atual\n",
    "print(os.getcwd())\n"
   ]
  },
  {
   "cell_type": "code",
   "execution_count": 6,
   "metadata": {},
   "outputs": [],
   "source": [
    "# Altera o diretório de trabalho para um caminho desejado\n",
    "os.chdir(f'C:\\Python')\n"
   ]
  },
  {
   "cell_type": "code",
   "execution_count": 10,
   "metadata": {},
   "outputs": [
    {
     "data": {
      "text/html": [
       "<div>\n",
       "<style scoped>\n",
       "    .dataframe tbody tr th:only-of-type {\n",
       "        vertical-align: middle;\n",
       "    }\n",
       "\n",
       "    .dataframe tbody tr th {\n",
       "        vertical-align: top;\n",
       "    }\n",
       "\n",
       "    .dataframe thead th {\n",
       "        text-align: right;\n",
       "    }\n",
       "</style>\n",
       "<table border=\"1\" class=\"dataframe\">\n",
       "  <thead>\n",
       "    <tr style=\"text-align: right;\">\n",
       "      <th></th>\n",
       "      <th>compr bico</th>\n",
       "      <th>prof bico</th>\n",
       "      <th>nadadeira</th>\n",
       "      <th>massa</th>\n",
       "    </tr>\n",
       "  </thead>\n",
       "  <tbody>\n",
       "    <tr>\n",
       "      <th>count</th>\n",
       "      <td>344.000000</td>\n",
       "      <td>344.000000</td>\n",
       "      <td>344.000000</td>\n",
       "      <td>344.000000</td>\n",
       "    </tr>\n",
       "    <tr>\n",
       "      <th>mean</th>\n",
       "      <td>43.925000</td>\n",
       "      <td>17.152035</td>\n",
       "      <td>200.892442</td>\n",
       "      <td>4200.872093</td>\n",
       "    </tr>\n",
       "    <tr>\n",
       "      <th>std</th>\n",
       "      <td>5.443792</td>\n",
       "      <td>1.969060</td>\n",
       "      <td>14.023826</td>\n",
       "      <td>799.696532</td>\n",
       "    </tr>\n",
       "    <tr>\n",
       "      <th>min</th>\n",
       "      <td>32.100000</td>\n",
       "      <td>13.100000</td>\n",
       "      <td>172.000000</td>\n",
       "      <td>2700.000000</td>\n",
       "    </tr>\n",
       "    <tr>\n",
       "      <th>25%</th>\n",
       "      <td>39.275000</td>\n",
       "      <td>15.600000</td>\n",
       "      <td>190.000000</td>\n",
       "      <td>3550.000000</td>\n",
       "    </tr>\n",
       "    <tr>\n",
       "      <th>50%</th>\n",
       "      <td>44.450000</td>\n",
       "      <td>17.300000</td>\n",
       "      <td>197.000000</td>\n",
       "      <td>4050.000000</td>\n",
       "    </tr>\n",
       "    <tr>\n",
       "      <th>75%</th>\n",
       "      <td>48.500000</td>\n",
       "      <td>18.700000</td>\n",
       "      <td>213.000000</td>\n",
       "      <td>4750.000000</td>\n",
       "    </tr>\n",
       "    <tr>\n",
       "      <th>max</th>\n",
       "      <td>59.600000</td>\n",
       "      <td>21.500000</td>\n",
       "      <td>231.000000</td>\n",
       "      <td>6300.000000</td>\n",
       "    </tr>\n",
       "  </tbody>\n",
       "</table>\n",
       "</div>"
      ],
      "text/plain": [
       "       compr bico   prof bico   nadadeira        massa\n",
       "count  344.000000  344.000000  344.000000   344.000000\n",
       "mean    43.925000   17.152035  200.892442  4200.872093\n",
       "std      5.443792    1.969060   14.023826   799.696532\n",
       "min     32.100000   13.100000  172.000000  2700.000000\n",
       "25%     39.275000   15.600000  190.000000  3550.000000\n",
       "50%     44.450000   17.300000  197.000000  4050.000000\n",
       "75%     48.500000   18.700000  213.000000  4750.000000\n",
       "max     59.600000   21.500000  231.000000  6300.000000"
      ]
     },
     "execution_count": 10,
     "metadata": {},
     "output_type": "execute_result"
    }
   ],
   "source": [
    "df.describe()"
   ]
  },
  {
   "cell_type": "code",
   "execution_count": 15,
   "metadata": {},
   "outputs": [],
   "source": [
    "categorical_columns = df.select_dtypes(include=['object', 'category','string'])"
   ]
  },
  {
   "cell_type": "code",
   "execution_count": 17,
   "metadata": {},
   "outputs": [
    {
     "data": {
      "text/html": [
       "<div>\n",
       "<style scoped>\n",
       "    .dataframe tbody tr th:only-of-type {\n",
       "        vertical-align: middle;\n",
       "    }\n",
       "\n",
       "    .dataframe tbody tr th {\n",
       "        vertical-align: top;\n",
       "    }\n",
       "\n",
       "    .dataframe thead th {\n",
       "        text-align: right;\n",
       "    }\n",
       "</style>\n",
       "<table border=\"1\" class=\"dataframe\">\n",
       "  <thead>\n",
       "    <tr style=\"text-align: right;\">\n",
       "      <th></th>\n",
       "      <th>species</th>\n",
       "      <th>island</th>\n",
       "      <th>sex</th>\n",
       "    </tr>\n",
       "  </thead>\n",
       "  <tbody>\n",
       "    <tr>\n",
       "      <th>0</th>\n",
       "      <td>Adelie</td>\n",
       "      <td>Torgersen</td>\n",
       "      <td>Male</td>\n",
       "    </tr>\n",
       "    <tr>\n",
       "      <th>1</th>\n",
       "      <td>Adelie</td>\n",
       "      <td>Torgersen</td>\n",
       "      <td>Female</td>\n",
       "    </tr>\n",
       "    <tr>\n",
       "      <th>2</th>\n",
       "      <td>Adelie</td>\n",
       "      <td>Torgersen</td>\n",
       "      <td>Female</td>\n",
       "    </tr>\n",
       "    <tr>\n",
       "      <th>3</th>\n",
       "      <td>Adelie</td>\n",
       "      <td>Torgersen</td>\n",
       "      <td>NaN</td>\n",
       "    </tr>\n",
       "    <tr>\n",
       "      <th>4</th>\n",
       "      <td>Adelie</td>\n",
       "      <td>Torgersen</td>\n",
       "      <td>Female</td>\n",
       "    </tr>\n",
       "    <tr>\n",
       "      <th>...</th>\n",
       "      <td>...</td>\n",
       "      <td>...</td>\n",
       "      <td>...</td>\n",
       "    </tr>\n",
       "    <tr>\n",
       "      <th>339</th>\n",
       "      <td>Gentoo</td>\n",
       "      <td>Biscoe</td>\n",
       "      <td>NaN</td>\n",
       "    </tr>\n",
       "    <tr>\n",
       "      <th>340</th>\n",
       "      <td>Gentoo</td>\n",
       "      <td>Biscoe</td>\n",
       "      <td>Female</td>\n",
       "    </tr>\n",
       "    <tr>\n",
       "      <th>341</th>\n",
       "      <td>Gentoo</td>\n",
       "      <td>Biscoe</td>\n",
       "      <td>Male</td>\n",
       "    </tr>\n",
       "    <tr>\n",
       "      <th>342</th>\n",
       "      <td>Gentoo</td>\n",
       "      <td>Biscoe</td>\n",
       "      <td>Female</td>\n",
       "    </tr>\n",
       "    <tr>\n",
       "      <th>343</th>\n",
       "      <td>Gentoo</td>\n",
       "      <td>Biscoe</td>\n",
       "      <td>Male</td>\n",
       "    </tr>\n",
       "  </tbody>\n",
       "</table>\n",
       "<p>344 rows × 3 columns</p>\n",
       "</div>"
      ],
      "text/plain": [
       "    species     island     sex\n",
       "0    Adelie  Torgersen    Male\n",
       "1    Adelie  Torgersen  Female\n",
       "2    Adelie  Torgersen  Female\n",
       "3    Adelie  Torgersen     NaN\n",
       "4    Adelie  Torgersen  Female\n",
       "..      ...        ...     ...\n",
       "339  Gentoo     Biscoe     NaN\n",
       "340  Gentoo     Biscoe  Female\n",
       "341  Gentoo     Biscoe    Male\n",
       "342  Gentoo     Biscoe  Female\n",
       "343  Gentoo     Biscoe    Male\n",
       "\n",
       "[344 rows x 3 columns]"
      ]
     },
     "execution_count": 17,
     "metadata": {},
     "output_type": "execute_result"
    }
   ],
   "source": [
    "categorical_columns"
   ]
  },
  {
   "cell_type": "code",
   "execution_count": 16,
   "metadata": {},
   "outputs": [
    {
     "data": {
      "text/html": [
       "<div>\n",
       "<style scoped>\n",
       "    .dataframe tbody tr th:only-of-type {\n",
       "        vertical-align: middle;\n",
       "    }\n",
       "\n",
       "    .dataframe tbody tr th {\n",
       "        vertical-align: top;\n",
       "    }\n",
       "\n",
       "    .dataframe thead th {\n",
       "        text-align: right;\n",
       "    }\n",
       "</style>\n",
       "<table border=\"1\" class=\"dataframe\">\n",
       "  <thead>\n",
       "    <tr style=\"text-align: right;\">\n",
       "      <th></th>\n",
       "      <th>species</th>\n",
       "      <th>island</th>\n",
       "      <th>sex</th>\n",
       "    </tr>\n",
       "  </thead>\n",
       "  <tbody>\n",
       "    <tr>\n",
       "      <th>count</th>\n",
       "      <td>344</td>\n",
       "      <td>344</td>\n",
       "      <td>333</td>\n",
       "    </tr>\n",
       "    <tr>\n",
       "      <th>unique</th>\n",
       "      <td>3</td>\n",
       "      <td>3</td>\n",
       "      <td>2</td>\n",
       "    </tr>\n",
       "    <tr>\n",
       "      <th>top</th>\n",
       "      <td>Adelie</td>\n",
       "      <td>Biscoe</td>\n",
       "      <td>Male</td>\n",
       "    </tr>\n",
       "    <tr>\n",
       "      <th>freq</th>\n",
       "      <td>152</td>\n",
       "      <td>168</td>\n",
       "      <td>168</td>\n",
       "    </tr>\n",
       "  </tbody>\n",
       "</table>\n",
       "</div>"
      ],
      "text/plain": [
       "       species  island   sex\n",
       "count      344     344   333\n",
       "unique       3       3     2\n",
       "top     Adelie  Biscoe  Male\n",
       "freq       152     168   168"
      ]
     },
     "execution_count": 16,
     "metadata": {},
     "output_type": "execute_result"
    }
   ],
   "source": [
    "# Usando describe apenas nas colunas categóricas\n",
    "categorical_columns.describe()"
   ]
  },
  {
   "cell_type": "code",
   "execution_count": 14,
   "metadata": {},
   "outputs": [
    {
     "name": "stdout",
     "output_type": "stream",
     "text": [
      "<class 'pandas.core.frame.DataFrame'>\n",
      "RangeIndex: 344 entries, 0 to 343\n",
      "Data columns (total 7 columns):\n",
      " #   Column      Non-Null Count  Dtype  \n",
      "---  ------      --------------  -----  \n",
      " 0   species     344 non-null    object \n",
      " 1   island      344 non-null    object \n",
      " 2   compr bico  344 non-null    float64\n",
      " 3   prof bico   344 non-null    float64\n",
      " 4   nadadeira   344 non-null    float64\n",
      " 5   massa       344 non-null    float64\n",
      " 6   sex         333 non-null    object \n",
      "dtypes: float64(4), object(3)\n",
      "memory usage: 18.9+ KB\n"
     ]
    }
   ],
   "source": [
    "df.info()"
   ]
  },
  {
   "cell_type": "code",
   "execution_count": null,
   "metadata": {},
   "outputs": [],
   "source": []
  }
 ],
 "metadata": {
  "kernelspec": {
   "display_name": "base",
   "language": "python",
   "name": "python3"
  },
  "language_info": {
   "codemirror_mode": {
    "name": "ipython",
    "version": 3
   },
   "file_extension": ".py",
   "mimetype": "text/x-python",
   "name": "python",
   "nbconvert_exporter": "python",
   "pygments_lexer": "ipython3",
   "version": "3.11.4"
  }
 },
 "nbformat": 4,
 "nbformat_minor": 2
}
