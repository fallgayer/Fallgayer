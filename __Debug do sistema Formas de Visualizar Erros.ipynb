{
 "cells": [
  {
   "cell_type": "markdown",
   "metadata": {},
   "source": [
    "### Formas de debug do sistema"
   ]
  },
  {
   "cell_type": "code",
   "execution_count": 8,
   "metadata": {},
   "outputs": [
    {
     "name": "stdout",
     "output_type": "stream",
     "text": [
      "a: 10, b: 5\n",
      "Resultado: 15\n"
     ]
    }
   ],
   "source": [
    "def soma(a, b):\n",
    "    print(f\"a: {a}, b: {b}\")# Exibe os valores\n",
    "    return a + b\n",
    "resultado = soma(10, 5)\n",
    "print(f\"Resultado: {resultado}\")\n",
    "\n"
   ]
  },
  {
   "cell_type": "code",
   "execution_count": 9,
   "metadata": {},
   "outputs": [
    {
     "name": "stdout",
     "output_type": "stream",
     "text": [
      "Ocorreu um erro: division by zero\n"
     ]
    }
   ],
   "source": [
    "try:\n",
    "    resultado = 10 / 0  # Causa uma divisão por zero\n",
    "except ZeroDivisionError  as e:\n",
    "    print(f\"Ocorreu um erro: {e}\")\n"
   ]
  },
  {
   "cell_type": "code",
   "execution_count": 11,
   "metadata": {},
   "outputs": [
    {
     "name": "stdout",
     "output_type": "stream",
     "text": [
      "> \u001b[1;32mc:\\users\\fallg\\appdata\\local\\temp\\ipykernel_17648\\839707477.py\u001b[0m(10)\u001b[0;36msoma\u001b[1;34m()\u001b[0m\n",
      "\n",
      "--Return--\n",
      "15\n",
      "> \u001b[1;32mc:\\users\\fallg\\appdata\\local\\temp\\ipykernel_17648\\839707477.py\u001b[0m(10)\u001b[0;36msoma\u001b[1;34m()\u001b[0m\n",
      "\n",
      "--Return--\n",
      "None\n",
      "> \u001b[1;32mc:\\users\\fallg\\appdata\\local\\temp\\ipykernel_17648\\839707477.py\u001b[0m(12)\u001b[0;36m<module>\u001b[1;34m()\u001b[0m\n",
      "\n",
      "Resultado: 15\n"
     ]
    }
   ],
   "source": [
    "\"\"\"\n",
    "Ao usar pdb.set_trace(), o terminal entra no modo interativo, onde você pode usar comandos \n",
    "como n (next, próxima linha) ou c (continue) para navegar no código.\n",
    "\"\"\"\n",
    "\n",
    "import pdb\n",
    "\n",
    "def soma(a, b):\n",
    "    pdb.set_trace()  # Pausa a execução aqui\n",
    "    return a + b\n",
    "\n",
    "resultado = soma(10, 5)\n",
    "print(f\"Resultado: {resultado}\")"
   ]
  },
  {
   "cell_type": "code",
   "execution_count": 10,
   "metadata": {},
   "outputs": [
    {
     "name": "stderr",
     "output_type": "stream",
     "text": [
      "DEBUG:root:Valores de a: 10, b: 5\n",
      "INFO:root:Resultado: 15\n"
     ]
    }
   ],
   "source": [
    "import logging\n",
    "\n",
    "logging.basicConfig(level=logging.DEBUG)\n",
    "\n",
    "def soma(a, b):\n",
    "    logging.debug(f\"Valores de a: {a}, b: {b}\")\n",
    "    return a + b\n",
    "\n",
    "resultado = soma(10, 5)\n",
    "logging.info(f\"Resultado: {resultado}\")\n"
   ]
  },
  {
   "cell_type": "markdown",
   "metadata": {},
   "source": [
    "1. Exceções Comuns\\\n",
    "ZeroDivisionError: Como no exemplo anterior, ocorre quando há uma tentativa de dividir por zero.\\\n",
    "ValueError: Levantada quando uma função recebe um argumento do tipo correto, mas com um valor inapropriado.\\\n",
    "TypeError: Levantada quando uma operação ou função é aplicada a um objeto de tipo inadequado.\\\n",
    "FileNotFoundError: Ocorre ao tentar abrir um arquivo inexistente.\\\n",
    "KeyError: Levantada quando uma chave não é encontrada em um dicionário."
   ]
  },
  {
   "cell_type": "code",
   "execution_count": 12,
   "metadata": {},
   "outputs": [
    {
     "name": "stdout",
     "output_type": "stream",
     "text": [
      "Erro de valor: invalid literal for int() with base 10: 'abc'\n"
     ]
    }
   ],
   "source": [
    "try:\n",
    "    x = int(\"abc\")  # Isso gera um ValueError\n",
    "except ValueError as e:\n",
    "    print(f\"Erro de valor: {e}\")\n",
    "except TypeError as e:\n",
    "    print(f\"Erro de tipo: {e}\")\n"
   ]
  },
  {
   "cell_type": "code",
   "execution_count": 13,
   "metadata": {},
   "outputs": [
    {
     "name": "stdout",
     "output_type": "stream",
     "text": [
      "Ocorreu um erro: division by zero\n"
     ]
    }
   ],
   "source": [
    "try:\n",
    "    x = 10 / 0  # Gera um ZeroDivisionError\n",
    "except Exception as e:\n",
    "    print(f\"Ocorreu um erro: {e}\")\n"
   ]
  },
  {
   "cell_type": "code",
   "execution_count": 14,
   "metadata": {},
   "outputs": [
    {
     "name": "stdout",
     "output_type": "stream",
     "text": [
      "Erro capturado: invalid literal for int() with base 10: 'abc'\n"
     ]
    }
   ],
   "source": [
    "try:\n",
    "    x = int(\"abc\")  # Gera um ValueError\n",
    "    y = 10 / 0  # Gera um ZeroDivisionError\n",
    "except (ValueError, ZeroDivisionError) as e:\n",
    "    print(f\"Erro capturado: {e}\")\n"
   ]
  },
  {
   "cell_type": "code",
   "execution_count": 15,
   "metadata": {},
   "outputs": [
    {
     "name": "stdout",
     "output_type": "stream",
     "text": [
      "Nenhum erro ocorreu!\n",
      "Este bloco será sempre executado.\n"
     ]
    }
   ],
   "source": [
    "try:\n",
    "    x = 10 / 2  # Não gera erro\n",
    "except ZeroDivisionError as e:\n",
    "    print(f\"Erro: {e}\")\n",
    "else:\n",
    "    print(\"Nenhum erro ocorreu!\")\n",
    "finally:\n",
    "    print(\"Este bloco será sempre executado.\")\n"
   ]
  }
 ],
 "metadata": {
  "kernelspec": {
   "display_name": "base",
   "language": "python",
   "name": "python3"
  },
  "language_info": {
   "codemirror_mode": {
    "name": "ipython",
    "version": 3
   },
   "file_extension": ".py",
   "mimetype": "text/x-python",
   "name": "python",
   "nbconvert_exporter": "python",
   "pygments_lexer": "ipython3",
   "version": "3.11.4"
  }
 },
 "nbformat": 4,
 "nbformat_minor": 2
}
