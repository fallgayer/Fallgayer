{
 "cells": [
  {
   "cell_type": "code",
   "execution_count": null,
   "metadata": {},
   "outputs": [],
   "source": []
  },
  {
   "cell_type": "code",
   "execution_count": 11,
   "metadata": {},
   "outputs": [
    {
     "name": "stdout",
     "output_type": "stream",
     "text": [
      "            word  count\n",
      "0              I    143\n",
      "1            the    136\n",
      "2              a    108\n",
      "3             to    104\n",
      "4            and     99\n",
      "...          ...    ...\n",
      "1604     hiccups      1\n",
      "1605       minus      1\n",
      "1606     worked,      1\n",
      "1607  Everything      1\n",
      "1608     answer.      1\n",
      "\n",
      "[1609 rows x 2 columns]\n"
     ]
    }
   ],
   "source": [
    "import pandas as pd\n",
    "import pdfplumber\n",
    "from docx import Document\n",
    "import sqlite3\n",
    "import os\n",
    "\n",
    "# Função para ler arquivos Word\n",
    "def extract_words_from_docx(filepath):\n",
    "    doc = Document(filepath)\n",
    "    words = []\n",
    "    for paragraph in doc.paragraphs:\n",
    "        words.extend(paragraph.text.split())\n",
    "    return words\n",
    "\n",
    "# Função para ler arquivos PDF\n",
    "def extract_words_from_pdf(filepath):\n",
    "    words = []\n",
    "    with pdfplumber.open(filepath) as pdf:\n",
    "        for page in pdf.pages:\n",
    "            text = page.extract_text()\n",
    "            words.extend(text.split())\n",
    "    return words\n",
    "\n",
    "# Função para ler arquivos Excel\n",
    "def extract_words_from_excel(filepath):\n",
    "    df = pd.read_excel(filepath)\n",
    "    return df.to_string().split()\n",
    "\n",
    "# Função para determinar o tipo de arquivo e extrair palavras\n",
    "def extract_words(filepath):\n",
    "    ext = os.path.splitext(filepath)[1].lower()\n",
    "    if ext == '.docx':\n",
    "        return extract_words_from_docx(filepath)\n",
    "    elif ext == '.pdf':\n",
    "        return extract_words_from_pdf(filepath)\n",
    "    elif ext == '.xlsx':\n",
    "        return extract_words_from_excel(filepath)\n",
    "    else:\n",
    "        raise ValueError(\"Formato de arquivo não suportado\")\n",
    "\n",
    "# Função para criar um DataFrame com a contagem das palavras\n",
    "def create_word_count_df(words):\n",
    "    word_count = pd.Series(words).value_counts().reset_index()\n",
    "    word_count.columns = ['word', 'count']\n",
    "    return word_count\n",
    "\n",
    "# Função para criar/atualizar tabela no SQLite\n",
    "def save_to_db(df, db_name='word_count.db'):\n",
    "    conn = sqlite3.connect(db_name)\n",
    "    df.to_sql('word_counts', conn, if_exists='append', index=False)\n",
    "    conn.close()\n",
    "\n",
    "# Recebe o caminho do arquivo diretamente do usuário\n",
    "filepath = input(\"Digite o caminho completo do arquivo (exemplo: C:\\\\Users\\\\SeuNome\\\\arquivo.pdf): \")\n",
    "\n",
    "# Extrai palavras e cria o DataFrame\n",
    "words = extract_words(filepath)\n",
    "df_word_count = create_word_count_df(words)\n",
    "\n",
    "# Mostra o DataFrame com as palavras mais usadas\n",
    "print(df_word_count)\n",
    "\n",
    "# Salva no banco de dados\n",
    "save_to_db(df_word_count)\n"
   ]
  },
  {
   "cell_type": "code",
   "execution_count": 12,
   "metadata": {},
   "outputs": [
    {
     "name": "stdout",
     "output_type": "stream",
     "text": [
      "            word  count\n",
      "0              I    143\n",
      "1            the    136\n",
      "2              a    108\n",
      "3             to    104\n",
      "4            and     99\n",
      "...          ...    ...\n",
      "1604     hiccups      1\n",
      "1605       minus      1\n",
      "1606     worked,      1\n",
      "1607  Everything      1\n",
      "1608     answer.      1\n",
      "\n",
      "[1609 rows x 2 columns]\n"
     ]
    }
   ],
   "source": [
    "def load_from_db(db_name='word_count.db'):\n",
    "    conn = sqlite3.connect(db_name)\n",
    "    df = pd.read_sql_query(\"SELECT * FROM word_counts\", conn)\n",
    "    conn.close()\n",
    "    return df\n",
    "\n",
    "df_from_db = load_from_db()\n",
    "print(df_from_db)\n"
   ]
  },
  {
   "cell_type": "code",
   "execution_count": 13,
   "metadata": {},
   "outputs": [],
   "source": [
    "import pandas as pd\n",
    "import sqlite3\n",
    "\n",
    "# Função para consultar o banco de dados e retornar como DataFrame\n",
    "def query_db(query, db_name='word_count.db'):\n",
    "    conn = sqlite3.connect(db_name)\n",
    "    df = pd.read_sql_query(query, conn)\n",
    "    conn.close()\n",
    "    return df\n",
    "\n",
    "\n"
   ]
  },
  {
   "cell_type": "code",
   "execution_count": 14,
   "metadata": {},
   "outputs": [
    {
     "name": "stdout",
     "output_type": "stream",
     "text": [
      "            word  count\n",
      "0              I    143\n",
      "1            the    136\n",
      "2              a    108\n",
      "3             to    104\n",
      "4            and     99\n",
      "...          ...    ...\n",
      "1604     hiccups      1\n",
      "1605       minus      1\n",
      "1606     worked,      1\n",
      "1607  Everything      1\n",
      "1608     answer.      1\n",
      "\n",
      "[1609 rows x 2 columns]\n"
     ]
    }
   ],
   "source": [
    "# Exemplo de uso\n",
    "query = \"SELECT * FROM word_counts\"  # Pode personalizar a consulta SQL\n",
    "dfx = query_db(query)\n",
    "\n",
    "# Mostra o DataFrame retornado da consulta\n",
    "print(dfx)"
   ]
  },
  {
   "cell_type": "code",
   "execution_count": 15,
   "metadata": {},
   "outputs": [
    {
     "name": "stdout",
     "output_type": "stream",
     "text": [
      "Empty DataFrame\n",
      "Columns: [word, total_count]\n",
      "Index: []\n"
     ]
    }
   ],
   "source": [
    "# Essa consulta está trazendo zero registros\n",
    "query = \"\"\"\n",
    "SELECT word, COUNT(word) as total_count\n",
    "FROM word_counts\n",
    "GROUP BY word\n",
    "HAVING total_count > 5\n",
    "ORDER BY total_count DESC\n",
    "LIMIT 20\n",
    "\"\"\"\n",
    "dfx = query_db(query)\n",
    "print(dfx)"
   ]
  },
  {
   "cell_type": "code",
   "execution_count": 20,
   "metadata": {},
   "outputs": [
    {
     "name": "stdout",
     "output_type": "stream",
     "text": [
      "     word  count\n",
      "0       I    143\n",
      "1     the    136\n",
      "2       a    108\n",
      "3      to    104\n",
      "4     and     99\n",
      "5      of     90\n",
      "6       o     67\n",
      "7       t     66\n",
      "8       e     64\n",
      "9      in     47\n",
      "10     my     45\n",
      "11      h     43\n",
      "12      i     42\n",
      "13      l     37\n",
      "14    you     34\n",
      "15      n     32\n",
      "16     on     30\n",
      "17      r     29\n",
      "18      s     28\n",
      "19    was     28\n",
      "20      d     27\n",
      "21     is     25\n",
      "22      m     24\n",
      "23    for     23\n",
      "24   that     22\n",
      "25      c     22\n",
      "26      u     21\n",
      "27      ?     21\n",
      "28   with     21\n",
      "29      w     21\n",
      "30    The     20\n",
      "31      p     18\n",
      "32     if     18\n",
      "33      y     17\n",
      "34      #     17\n",
      "35      f     17\n",
      "36    one     16\n",
      "37   more     16\n",
      "38  “What     15\n",
      "39  would     15\n",
      "40      1     15\n",
      "41   this     14\n",
      "42     or     14\n",
      "43     as     14\n",
      "44    had     14\n",
      "45   your     13\n",
      "46     me     13\n",
      "47   from     13\n",
      "48   were     13\n",
      "49      W     12\n"
     ]
    }
   ],
   "source": [
    "query = \"SELECT * FROM word_counts LIMIT 50\"\n",
    "dfx = query_db(query)\n",
    "print(dfx)\n"
   ]
  },
  {
   "cell_type": "code",
   "execution_count": null,
   "metadata": {},
   "outputs": [],
   "source": [
    "##########################  para deletar os registros do banco e deixar limpinho..... ############################"
   ]
  },
  {
   "cell_type": "code",
   "execution_count": 19,
   "metadata": {},
   "outputs": [
    {
     "data": {
      "text/plain": [
       "'\\nmport sqlite3\\n\\n# Função para deletar todos os registros da tabela\\ndef delete_all_records(db_name=\\'word_count.db\\'):\\n    conn = sqlite3.connect(db_name)\\n    cursor = conn.cursor()\\n    cursor.execute(\"DELETE FROM word_counts\")\\n    conn.commit()\\n    conn.close()\\n    print(\"Todos os registros foram deletados.\")\\n\\n# Exemplo de uso\\ndelete_all_records()\\n'"
      ]
     },
     "execution_count": 19,
     "metadata": {},
     "output_type": "execute_result"
    }
   ],
   "source": [
    "\"\"\"\n",
    "mport sqlite3\n",
    "\n",
    "# Função para deletar todos os registros da tabela\n",
    "def delete_all_records(db_name='word_count.db'):\n",
    "    conn = sqlite3.connect(db_name)\n",
    "    cursor = conn.cursor()\n",
    "    cursor.execute(\"DELETE FROM word_counts\")\n",
    "    conn.commit()\n",
    "    conn.close()\n",
    "    print(\"Todos os registros foram deletados.\")\n",
    "\n",
    "# Exemplo de uso\n",
    "delete_all_records()\n",
    "\"\"\""
   ]
  }
 ],
 "metadata": {
  "kernelspec": {
   "display_name": "base",
   "language": "python",
   "name": "python3"
  },
  "language_info": {
   "codemirror_mode": {
    "name": "ipython",
    "version": 3
   },
   "file_extension": ".py",
   "mimetype": "text/x-python",
   "name": "python",
   "nbconvert_exporter": "python",
   "pygments_lexer": "ipython3",
   "version": "3.11.4"
  }
 },
 "nbformat": 4,
 "nbformat_minor": 2
}
