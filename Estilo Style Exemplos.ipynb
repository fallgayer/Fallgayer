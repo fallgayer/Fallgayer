{
 "cells": [
  {
   "cell_type": "code",
   "execution_count": 1,
   "id": "ddd64518",
   "metadata": {},
   "outputs": [
    {
     "data": {
      "text/html": [
       "<style type=\"text/css\">\n",
       "#T_3e069_row4_col1 {\n",
       "  background-color: yellow;\n",
       "}\n",
       "</style>\n",
       "<table id=\"T_3e069\">\n",
       "  <thead>\n",
       "    <tr>\n",
       "      <th class=\"blank level0\" >&nbsp;</th>\n",
       "      <th id=\"T_3e069_level0_col0\" class=\"col_heading level0 col0\" >A</th>\n",
       "      <th id=\"T_3e069_level0_col1\" class=\"col_heading level0 col1\" >B</th>\n",
       "    </tr>\n",
       "  </thead>\n",
       "  <tbody>\n",
       "    <tr>\n",
       "      <th id=\"T_3e069_level0_row0\" class=\"row_heading level0 row0\" >0</th>\n",
       "      <td id=\"T_3e069_row0_col0\" class=\"data row0 col0\" >1</td>\n",
       "      <td id=\"T_3e069_row0_col1\" class=\"data row0 col1\" >a</td>\n",
       "    </tr>\n",
       "    <tr>\n",
       "      <th id=\"T_3e069_level0_row1\" class=\"row_heading level0 row1\" >1</th>\n",
       "      <td id=\"T_3e069_row1_col0\" class=\"data row1 col0\" >2</td>\n",
       "      <td id=\"T_3e069_row1_col1\" class=\"data row1 col1\" >b</td>\n",
       "    </tr>\n",
       "    <tr>\n",
       "      <th id=\"T_3e069_level0_row2\" class=\"row_heading level0 row2\" >2</th>\n",
       "      <td id=\"T_3e069_row2_col0\" class=\"data row2 col0\" >3</td>\n",
       "      <td id=\"T_3e069_row2_col1\" class=\"data row2 col1\" >c</td>\n",
       "    </tr>\n",
       "    <tr>\n",
       "      <th id=\"T_3e069_level0_row3\" class=\"row_heading level0 row3\" >3</th>\n",
       "      <td id=\"T_3e069_row3_col0\" class=\"data row3 col0\" >4</td>\n",
       "      <td id=\"T_3e069_row3_col1\" class=\"data row3 col1\" >d</td>\n",
       "    </tr>\n",
       "    <tr>\n",
       "      <th id=\"T_3e069_level0_row4\" class=\"row_heading level0 row4\" >4</th>\n",
       "      <td id=\"T_3e069_row4_col0\" class=\"data row4 col0\" >5</td>\n",
       "      <td id=\"T_3e069_row4_col1\" class=\"data row4 col1\" >e</td>\n",
       "    </tr>\n",
       "  </tbody>\n",
       "</table>\n"
      ],
      "text/plain": [
       "<pandas.io.formats.style.Styler at 0x202cbc63690>"
      ]
     },
     "execution_count": 1,
     "metadata": {},
     "output_type": "execute_result"
    }
   ],
   "source": [
    "import pandas as pd\n",
    "\n",
    "# Criar um DataFrame de exemplo com colunas categóricas e numéricas\n",
    "data = {'A': [1, 2, 3, 4, 5],\n",
    "        'B': ['a', 'b', 'c', 'd', 'e']}\n",
    "df = pd.DataFrame(data)\n",
    "\n",
    "def highlight_max_in_category(s):\n",
    "    '''\n",
    "    Destaca o maior valor em uma coluna categórica.\n",
    "    '''\n",
    "    is_max = s == s.max()\n",
    "    return ['background-color: yellow' if v else '' for v in is_max]\n",
    "\n",
    "# Aplicar a função de destaque para a coluna categórica\n",
    "styled_df = df.style.apply(highlight_max_in_category, subset=['B'])\n",
    "\n",
    "# Mostrar o DataFrame com os maiores valores destacados na coluna categórica\n",
    "styled_df\n"
   ]
  },
  {
   "cell_type": "code",
   "execution_count": 2,
   "id": "caac64dc",
   "metadata": {},
   "outputs": [
    {
     "data": {
      "text/html": [
       "<style type=\"text/css\">\n",
       "#T_7d121_row0_col0, #T_7d121_row0_col1 {\n",
       "  background-color: yellow;\n",
       "}\n",
       "</style>\n",
       "<table id=\"T_7d121\">\n",
       "  <thead>\n",
       "    <tr>\n",
       "      <th class=\"blank level0\" >&nbsp;</th>\n",
       "      <th id=\"T_7d121_level0_col0\" class=\"col_heading level0 col0\" >A</th>\n",
       "      <th id=\"T_7d121_level0_col1\" class=\"col_heading level0 col1\" >B</th>\n",
       "    </tr>\n",
       "  </thead>\n",
       "  <tbody>\n",
       "    <tr>\n",
       "      <th id=\"T_7d121_level0_row0\" class=\"row_heading level0 row0\" >0</th>\n",
       "      <td id=\"T_7d121_row0_col0\" class=\"data row0 col0\" >1</td>\n",
       "      <td id=\"T_7d121_row0_col1\" class=\"data row0 col1\" >a</td>\n",
       "    </tr>\n",
       "    <tr>\n",
       "      <th id=\"T_7d121_level0_row1\" class=\"row_heading level0 row1\" >1</th>\n",
       "      <td id=\"T_7d121_row1_col0\" class=\"data row1 col0\" >2</td>\n",
       "      <td id=\"T_7d121_row1_col1\" class=\"data row1 col1\" >b</td>\n",
       "    </tr>\n",
       "    <tr>\n",
       "      <th id=\"T_7d121_level0_row2\" class=\"row_heading level0 row2\" >2</th>\n",
       "      <td id=\"T_7d121_row2_col0\" class=\"data row2 col0\" >3</td>\n",
       "      <td id=\"T_7d121_row2_col1\" class=\"data row2 col1\" >c</td>\n",
       "    </tr>\n",
       "    <tr>\n",
       "      <th id=\"T_7d121_level0_row3\" class=\"row_heading level0 row3\" >3</th>\n",
       "      <td id=\"T_7d121_row3_col0\" class=\"data row3 col0\" >4</td>\n",
       "      <td id=\"T_7d121_row3_col1\" class=\"data row3 col1\" >d</td>\n",
       "    </tr>\n",
       "    <tr>\n",
       "      <th id=\"T_7d121_level0_row4\" class=\"row_heading level0 row4\" >4</th>\n",
       "      <td id=\"T_7d121_row4_col0\" class=\"data row4 col0\" >5</td>\n",
       "      <td id=\"T_7d121_row4_col1\" class=\"data row4 col1\" >e</td>\n",
       "    </tr>\n",
       "  </tbody>\n",
       "</table>\n"
      ],
      "text/plain": [
       "<pandas.io.formats.style.Styler at 0x202cbd1be50>"
      ]
     },
     "execution_count": 2,
     "metadata": {},
     "output_type": "execute_result"
    }
   ],
   "source": [
    "df.style.highlight_min(axis=0)"
   ]
  },
  {
   "cell_type": "code",
   "execution_count": 3,
   "id": "2412b923",
   "metadata": {},
   "outputs": [
    {
     "data": {
      "text/html": [
       "<style type=\"text/css\">\n",
       "#T_b267e_row4_col0, #T_b267e_row4_col1 {\n",
       "  background-color: yellow;\n",
       "}\n",
       "</style>\n",
       "<table id=\"T_b267e\">\n",
       "  <thead>\n",
       "    <tr>\n",
       "      <th class=\"blank level0\" >&nbsp;</th>\n",
       "      <th id=\"T_b267e_level0_col0\" class=\"col_heading level0 col0\" >A</th>\n",
       "      <th id=\"T_b267e_level0_col1\" class=\"col_heading level0 col1\" >B</th>\n",
       "    </tr>\n",
       "  </thead>\n",
       "  <tbody>\n",
       "    <tr>\n",
       "      <th id=\"T_b267e_level0_row0\" class=\"row_heading level0 row0\" >0</th>\n",
       "      <td id=\"T_b267e_row0_col0\" class=\"data row0 col0\" >1</td>\n",
       "      <td id=\"T_b267e_row0_col1\" class=\"data row0 col1\" >a</td>\n",
       "    </tr>\n",
       "    <tr>\n",
       "      <th id=\"T_b267e_level0_row1\" class=\"row_heading level0 row1\" >1</th>\n",
       "      <td id=\"T_b267e_row1_col0\" class=\"data row1 col0\" >2</td>\n",
       "      <td id=\"T_b267e_row1_col1\" class=\"data row1 col1\" >b</td>\n",
       "    </tr>\n",
       "    <tr>\n",
       "      <th id=\"T_b267e_level0_row2\" class=\"row_heading level0 row2\" >2</th>\n",
       "      <td id=\"T_b267e_row2_col0\" class=\"data row2 col0\" >3</td>\n",
       "      <td id=\"T_b267e_row2_col1\" class=\"data row2 col1\" >c</td>\n",
       "    </tr>\n",
       "    <tr>\n",
       "      <th id=\"T_b267e_level0_row3\" class=\"row_heading level0 row3\" >3</th>\n",
       "      <td id=\"T_b267e_row3_col0\" class=\"data row3 col0\" >4</td>\n",
       "      <td id=\"T_b267e_row3_col1\" class=\"data row3 col1\" >d</td>\n",
       "    </tr>\n",
       "    <tr>\n",
       "      <th id=\"T_b267e_level0_row4\" class=\"row_heading level0 row4\" >4</th>\n",
       "      <td id=\"T_b267e_row4_col0\" class=\"data row4 col0\" >5</td>\n",
       "      <td id=\"T_b267e_row4_col1\" class=\"data row4 col1\" >e</td>\n",
       "    </tr>\n",
       "  </tbody>\n",
       "</table>\n"
      ],
      "text/plain": [
       "<pandas.io.formats.style.Styler at 0x202c83cb010>"
      ]
     },
     "execution_count": 3,
     "metadata": {},
     "output_type": "execute_result"
    }
   ],
   "source": [
    "df.style.highlight_max(axis=0)"
   ]
  },
  {
   "cell_type": "code",
   "execution_count": 4,
   "id": "38059ec6",
   "metadata": {},
   "outputs": [
    {
     "name": "stderr",
     "output_type": "stream",
     "text": [
      "C:\\Users\\fallg\\AppData\\Local\\Temp\\ipykernel_12684\\2412487934.py:17: FutureWarning: Styler.applymap has been deprecated. Use Styler.map instead.\n",
      "  styled_df = df.style.applymap(highlight_min_in_category)\n"
     ]
    },
    {
     "data": {
      "text/html": [
       "<style type=\"text/css\">\n",
       "#T_4a455_row0_col1 {\n",
       "  background-color: yellow;\n",
       "}\n",
       "</style>\n",
       "<table id=\"T_4a455\">\n",
       "  <thead>\n",
       "    <tr>\n",
       "      <th class=\"blank level0\" >&nbsp;</th>\n",
       "      <th id=\"T_4a455_level0_col0\" class=\"col_heading level0 col0\" >A</th>\n",
       "      <th id=\"T_4a455_level0_col1\" class=\"col_heading level0 col1\" >B</th>\n",
       "    </tr>\n",
       "  </thead>\n",
       "  <tbody>\n",
       "    <tr>\n",
       "      <th id=\"T_4a455_level0_row0\" class=\"row_heading level0 row0\" >0</th>\n",
       "      <td id=\"T_4a455_row0_col0\" class=\"data row0 col0\" >1</td>\n",
       "      <td id=\"T_4a455_row0_col1\" class=\"data row0 col1\" >a</td>\n",
       "    </tr>\n",
       "    <tr>\n",
       "      <th id=\"T_4a455_level0_row1\" class=\"row_heading level0 row1\" >1</th>\n",
       "      <td id=\"T_4a455_row1_col0\" class=\"data row1 col0\" >2</td>\n",
       "      <td id=\"T_4a455_row1_col1\" class=\"data row1 col1\" >b</td>\n",
       "    </tr>\n",
       "    <tr>\n",
       "      <th id=\"T_4a455_level0_row2\" class=\"row_heading level0 row2\" >2</th>\n",
       "      <td id=\"T_4a455_row2_col0\" class=\"data row2 col0\" >3</td>\n",
       "      <td id=\"T_4a455_row2_col1\" class=\"data row2 col1\" >c</td>\n",
       "    </tr>\n",
       "    <tr>\n",
       "      <th id=\"T_4a455_level0_row3\" class=\"row_heading level0 row3\" >3</th>\n",
       "      <td id=\"T_4a455_row3_col0\" class=\"data row3 col0\" >4</td>\n",
       "      <td id=\"T_4a455_row3_col1\" class=\"data row3 col1\" >d</td>\n",
       "    </tr>\n",
       "    <tr>\n",
       "      <th id=\"T_4a455_level0_row4\" class=\"row_heading level0 row4\" >4</th>\n",
       "      <td id=\"T_4a455_row4_col0\" class=\"data row4 col0\" >5</td>\n",
       "      <td id=\"T_4a455_row4_col1\" class=\"data row4 col1\" >e</td>\n",
       "    </tr>\n",
       "  </tbody>\n",
       "</table>\n"
      ],
      "text/plain": [
       "<pandas.io.formats.style.Styler at 0x202cbcdea50>"
      ]
     },
     "execution_count": 4,
     "metadata": {},
     "output_type": "execute_result"
    }
   ],
   "source": [
    "import pandas as pd\n",
    "\n",
    "# Criar um DataFrame de exemplo com colunas categóricas e numéricas\n",
    "data = {'A': [1, 2, 3, 4, 5],\n",
    "        'B': ['a', 'b', 'c', 'd', 'e']}\n",
    "df = pd.DataFrame(data)\n",
    "\n",
    "def highlight_min_in_category(val):\n",
    "    '''\n",
    "    Destaca o menor valor em uma coluna categórica.\n",
    "    '''\n",
    "    if isinstance(val, str):  # Verifica se o valor é uma string (categórico)\n",
    "        return 'background-color: yellow' if val == df['B'].min() else ''\n",
    "    return ''  # Para valores numéricos, não destaque\n",
    "\n",
    "# Aplicar a função de destaque para cada elemento do DataFrame\n",
    "styled_df = df.style.applymap(highlight_min_in_category)\n",
    "\n",
    "# Mostrar o DataFrame com os menores valores destacados na coluna categórica\n",
    "styled_df\n"
   ]
  },
  {
   "cell_type": "code",
   "execution_count": null,
   "id": "490cd42a",
   "metadata": {},
   "outputs": [],
   "source": [
    "# Resposta generica para trabalhar com o comparativo somente de numeros e não categóricos\n",
    "import pandas as pd\n",
    "\n",
    "# Considere que df é o seu DataFrame\n",
    "\n",
    "# Opção 1: Limitar a pesquisa às colunas numéricas\n",
    "numeric_cols = df.select_dtypes(include='number').columns\n",
    "styled_df_numeric = df.style.highlight_min(subset=numeric_cols, axis=0)\n",
    "\n",
    "# Opção 2: Escrever uma função personalizada para destacar os valores mínimos em todas as colunas\n",
    "def highlight_min(val):\n",
    "    '''\n",
    "    Destaca o menor valor em todas as colunas.\n",
    "    '''\n",
    "    if isinstance(val, (int, float)):\n",
    "        return 'background-color: yellow' if val == df.min().min() else ''\n",
    "    return ''\n",
    "\n",
    "styled_df_custom = df.style.applymap(highlight_min)\n",
    "\n",
    "# Mostrar os resultados\n",
    "styled_df_numeric\n",
    "styled_df_custom\n"
   ]
  }
 ],
 "metadata": {
  "kernelspec": {
   "display_name": "Python 3 (ipykernel)",
   "language": "python",
   "name": "python3"
  },
  "language_info": {
   "codemirror_mode": {
    "name": "ipython",
    "version": 3
   },
   "file_extension": ".py",
   "mimetype": "text/x-python",
   "name": "python",
   "nbconvert_exporter": "python",
   "pygments_lexer": "ipython3",
   "version": "3.11.4"
  }
 },
 "nbformat": 4,
 "nbformat_minor": 5
}
