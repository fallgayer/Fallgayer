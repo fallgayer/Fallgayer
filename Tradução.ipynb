{
 "cells": [
  {
   "cell_type": "markdown",
   "metadata": {},
   "source": [
    "Tradução - Google\n",
    "Base inicial:\n",
    "https://www.hashtagtreinamentos.com/tradutor-de-texto-em-python\n",
    "Adaptado"
   ]
  },
  {
   "cell_type": "code",
   "execution_count": 8,
   "metadata": {},
   "outputs": [],
   "source": [
    "from deep_translator import GoogleTranslator"
   ]
  },
  {
   "cell_type": "code",
   "execution_count": 24,
   "metadata": {},
   "outputs": [],
   "source": [
    "tradutor_pt_en = GoogleTranslator(source= \"pt\", target= \"en\")"
   ]
  },
  {
   "cell_type": "code",
   "execution_count": 32,
   "metadata": {},
   "outputs": [],
   "source": [
    "tradutor_en_pt = GoogleTranslator(source= \"en\", target= \"pt\")"
   ]
  },
  {
   "cell_type": "code",
   "execution_count": 40,
   "metadata": {},
   "outputs": [
    {
     "name": "stdout",
     "output_type": "stream",
     "text": [
      "(en):  the keyboard is good and works perfectly.\n",
      "(pt):  o teclado está bom e funcionando perfeitamente.\n"
     ]
    }
   ],
   "source": [
    "# Tradução pt-en\n",
    "texto=input(\"Digite o que você quer traduzir (pt-en)...\")\n",
    "traducao_pt_en = tradutor_pt_en.translate(texto)\n",
    "print('(en): ',traducao_pt_en)\n",
    "print('(pt): ',texto)"
   ]
  },
  {
   "cell_type": "code",
   "execution_count": 43,
   "metadata": {},
   "outputs": [
    {
     "name": "stdout",
     "output_type": "stream",
     "text": [
      "(pt):  Entendi\n",
      "(en):  i goit\n"
     ]
    }
   ],
   "source": [
    "# Tradução en-pt\n",
    "texto=input(\"Digite o que você quer traduzir (en-pt)...\")\n",
    "traducao_en_pt = tradutor_en_pt.translate(texto)\n",
    "print('(pt): ',traducao_en_pt)\n",
    "print('(en): ',texto)"
   ]
  }
 ],
 "metadata": {
  "kernelspec": {
   "display_name": "base",
   "language": "python",
   "name": "python3"
  },
  "language_info": {
   "codemirror_mode": {
    "name": "ipython",
    "version": 3
   },
   "file_extension": ".py",
   "mimetype": "text/x-python",
   "name": "python",
   "nbconvert_exporter": "python",
   "pygments_lexer": "ipython3",
   "version": "3.11.4"
  }
 },
 "nbformat": 4,
 "nbformat_minor": 2
}
