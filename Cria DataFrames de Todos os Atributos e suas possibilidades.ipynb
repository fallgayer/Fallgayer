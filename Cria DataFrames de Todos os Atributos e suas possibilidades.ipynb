{
 "cells": [
  {
   "cell_type": "markdown",
   "metadata": {},
   "source": [
    "# Cria dataframes de cada atributo com resumo\n",
    "De forma resumida"
   ]
  },
  {
   "cell_type": "code",
   "execution_count": 32,
   "metadata": {},
   "outputs": [],
   "source": [
    "# Desativar avisos de expiração\n",
    "import warnings\n",
    "warnings.filterwarnings(\"ignore\", category=FutureWarning)\n"
   ]
  },
  {
   "cell_type": "code",
   "execution_count": 33,
   "metadata": {},
   "outputs": [
    {
     "name": "stdout",
     "output_type": "stream",
     "text": [
      "Dataframes criados:\n",
      "df_sex\n",
      "df_embarked\n",
      "df_who\n",
      "df_embark_town\n",
      "df_alive\n"
     ]
    }
   ],
   "source": [
    "import pandas as pd\n",
    "import seaborn as sns\n",
    "import matplotlib.pyplot as plt\n",
    "\n",
    "# Carregar o dataset \n",
    "dados = sns.load_dataset('titanic')\n",
    "\n",
    "# Função para criar dataframes individuais para cada coluna não numérica\n",
    "def criar_dataframes_por_coluna_nao_numerica(df):\n",
    "    dataframes_criados = []  # Lista para armazenar os nomes dos dataframes criados\n",
    "    # Iterar sobre as colunas do dataframe\n",
    "    for coluna in df.columns:\n",
    "        if df[coluna].dtype == 'object':  # Verificar se o tipo de dado da coluna é não numérico\n",
    "            # Nomear o dataframe com o prefixo \"df_\" e o nome da coluna\n",
    "            nome_dataframe = f\"df_{coluna}\"\n",
    "            \n",
    "            # Salvar o dataframe em uma variável com o mesmo nome da coluna, prefixado com \"df_\"\n",
    "            globals()[nome_dataframe] = df.groupby(coluna).size().reset_index(name='count')\n",
    "            \n",
    "            # Adicionar o nome do dataframe criado à lista de dataframes criados\n",
    "            dataframes_criados.append(nome_dataframe)\n",
    "    \n",
    "    return dataframes_criados\n",
    "\n",
    "# Criar dataframes individuais para cada coluna não numérica\n",
    "dataframes = criar_dataframes_por_coluna_nao_numerica(dados)\n",
    "\n",
    "# Exibir os nomes dos dataframes criados\n",
    "print(\"Dataframes criados:\")\n",
    "for dataframe in dataframes:\n",
    "    print(dataframe)"
   ]
  },
  {
   "cell_type": "code",
   "execution_count": 34,
   "metadata": {},
   "outputs": [
    {
     "data": {
      "text/html": [
       "<div>\n",
       "<style scoped>\n",
       "    .dataframe tbody tr th:only-of-type {\n",
       "        vertical-align: middle;\n",
       "    }\n",
       "\n",
       "    .dataframe tbody tr th {\n",
       "        vertical-align: top;\n",
       "    }\n",
       "\n",
       "    .dataframe thead th {\n",
       "        text-align: right;\n",
       "    }\n",
       "</style>\n",
       "<table border=\"1\" class=\"dataframe\">\n",
       "  <thead>\n",
       "    <tr style=\"text-align: right;\">\n",
       "      <th></th>\n",
       "      <th>sex</th>\n",
       "      <th>count</th>\n",
       "    </tr>\n",
       "  </thead>\n",
       "  <tbody>\n",
       "    <tr>\n",
       "      <th>0</th>\n",
       "      <td>female</td>\n",
       "      <td>314</td>\n",
       "    </tr>\n",
       "    <tr>\n",
       "      <th>1</th>\n",
       "      <td>male</td>\n",
       "      <td>577</td>\n",
       "    </tr>\n",
       "  </tbody>\n",
       "</table>\n",
       "</div>"
      ],
      "text/plain": [
       "      sex  count\n",
       "0  female    314\n",
       "1    male    577"
      ]
     },
     "execution_count": 34,
     "metadata": {},
     "output_type": "execute_result"
    }
   ],
   "source": [
    "df_sex"
   ]
  },
  {
   "cell_type": "code",
   "execution_count": 35,
   "metadata": {},
   "outputs": [
    {
     "data": {
      "text/html": [
       "<div>\n",
       "<style scoped>\n",
       "    .dataframe tbody tr th:only-of-type {\n",
       "        vertical-align: middle;\n",
       "    }\n",
       "\n",
       "    .dataframe tbody tr th {\n",
       "        vertical-align: top;\n",
       "    }\n",
       "\n",
       "    .dataframe thead th {\n",
       "        text-align: right;\n",
       "    }\n",
       "</style>\n",
       "<table border=\"1\" class=\"dataframe\">\n",
       "  <thead>\n",
       "    <tr style=\"text-align: right;\">\n",
       "      <th></th>\n",
       "      <th>embarked</th>\n",
       "      <th>count</th>\n",
       "    </tr>\n",
       "  </thead>\n",
       "  <tbody>\n",
       "    <tr>\n",
       "      <th>0</th>\n",
       "      <td>C</td>\n",
       "      <td>168</td>\n",
       "    </tr>\n",
       "    <tr>\n",
       "      <th>1</th>\n",
       "      <td>Q</td>\n",
       "      <td>77</td>\n",
       "    </tr>\n",
       "    <tr>\n",
       "      <th>2</th>\n",
       "      <td>S</td>\n",
       "      <td>644</td>\n",
       "    </tr>\n",
       "  </tbody>\n",
       "</table>\n",
       "</div>"
      ],
      "text/plain": [
       "  embarked  count\n",
       "0        C    168\n",
       "1        Q     77\n",
       "2        S    644"
      ]
     },
     "execution_count": 35,
     "metadata": {},
     "output_type": "execute_result"
    }
   ],
   "source": [
    "df_embarked"
   ]
  },
  {
   "cell_type": "markdown",
   "metadata": {},
   "source": [
    "# Cria dataframes dos atributos e suas aberturas\n",
    "Esse é preciso ter cuidado, se uma coluna tiver muitos aberturas, serão criados muitos dataframes"
   ]
  },
  {
   "cell_type": "code",
   "execution_count": 36,
   "metadata": {},
   "outputs": [
    {
     "name": "stdout",
     "output_type": "stream",
     "text": [
      "Dataframes criados:\n",
      "df_sex_female\n",
      "df_sex_male\n",
      "df_embarked_C\n",
      "df_embarked_Q\n",
      "df_embarked_S\n",
      "df_who_child\n",
      "df_who_man\n",
      "df_who_woman\n",
      "df_embark_town_Cherbourg\n",
      "df_embark_town_Queenstown\n",
      "df_embark_town_Southampton\n",
      "df_alive_no\n",
      "df_alive_yes\n"
     ]
    }
   ],
   "source": [
    "import pandas as pd\n",
    "import seaborn as sns\n",
    "import matplotlib.pyplot as plt\n",
    "\n",
    "# Carregar o dataset \n",
    "dados = sns.load_dataset('titanic')\n",
    "\n",
    "# Função para criar dataframes individuais para cada coluna não numérica\n",
    "def criar_dataframes_por_coluna_nao_numerica(df):\n",
    "    dataframes_criados = []  # Lista para armazenar os nomes dos dataframes criados\n",
    "    # Iterar sobre as colunas do dataframe\n",
    "    for coluna in df.columns:\n",
    "        if df[coluna].dtype == 'object':  # Verificar se o tipo de dado da coluna é não numérico\n",
    "            # Agrupar o dataframe principal por esta coluna não numérica\n",
    "            grupos = df.groupby(coluna)\n",
    "            \n",
    "            # Iterar sobre cada grupo\n",
    "            for nome_grupo, grupo in grupos:\n",
    "                # Nomear o dataframe com o prefixo \"df_\" e o nome do grupo\n",
    "                nome_dataframe = f\"df_{coluna}_{nome_grupo}\"\n",
    "                \n",
    "                # Salvar o dataframe em uma variável com o mesmo nome do grupo, prefixado com \"df_\"\n",
    "                globals()[nome_dataframe] = grupo.copy()\n",
    "                \n",
    "                # Adicionar o nome do dataframe criado à lista de dataframes criados\n",
    "                dataframes_criados.append(nome_dataframe)\n",
    "    \n",
    "    return dataframes_criados\n",
    "\n",
    "# Criar dataframes individuais para cada coluna não numérica\n",
    "dataframes = criar_dataframes_por_coluna_nao_numerica(dados)\n",
    "\n",
    "# Exibir os nomes dos dataframes criados\n",
    "print(\"Dataframes criados:\")\n",
    "for dataframe in dataframes:\n",
    "    print(dataframe)"
   ]
  },
  {
   "cell_type": "code",
   "execution_count": 37,
   "metadata": {},
   "outputs": [
    {
     "data": {
      "text/plain": [
       "survived       577\n",
       "pclass         577\n",
       "sex            577\n",
       "age            453\n",
       "sibsp          577\n",
       "parch          577\n",
       "fare           577\n",
       "embarked       577\n",
       "class          577\n",
       "who            577\n",
       "adult_male     577\n",
       "deck           106\n",
       "embark_town    577\n",
       "alive          577\n",
       "alone          577\n",
       "dtype: int64"
      ]
     },
     "execution_count": 37,
     "metadata": {},
     "output_type": "execute_result"
    }
   ],
   "source": [
    "df_sex_male.count()"
   ]
  },
  {
   "cell_type": "code",
   "execution_count": 38,
   "metadata": {},
   "outputs": [
    {
     "data": {
      "text/plain": [
       "survived       314\n",
       "pclass         314\n",
       "sex            314\n",
       "age            261\n",
       "sibsp          314\n",
       "parch          314\n",
       "fare           314\n",
       "embarked       312\n",
       "class          314\n",
       "who            314\n",
       "adult_male     314\n",
       "deck            97\n",
       "embark_town    312\n",
       "alive          314\n",
       "alone          314\n",
       "dtype: int64"
      ]
     },
     "execution_count": 38,
     "metadata": {},
     "output_type": "execute_result"
    }
   ],
   "source": [
    "df_sex_female.count()"
   ]
  },
  {
   "cell_type": "code",
   "execution_count": 39,
   "metadata": {},
   "outputs": [
    {
     "data": {
      "text/html": [
       "<div>\n",
       "<style scoped>\n",
       "    .dataframe tbody tr th:only-of-type {\n",
       "        vertical-align: middle;\n",
       "    }\n",
       "\n",
       "    .dataframe tbody tr th {\n",
       "        vertical-align: top;\n",
       "    }\n",
       "\n",
       "    .dataframe thead th {\n",
       "        text-align: right;\n",
       "    }\n",
       "</style>\n",
       "<table border=\"1\" class=\"dataframe\">\n",
       "  <thead>\n",
       "    <tr style=\"text-align: right;\">\n",
       "      <th></th>\n",
       "      <th>sex</th>\n",
       "      <th>count</th>\n",
       "    </tr>\n",
       "  </thead>\n",
       "  <tbody>\n",
       "    <tr>\n",
       "      <th>0</th>\n",
       "      <td>female</td>\n",
       "      <td>314</td>\n",
       "    </tr>\n",
       "    <tr>\n",
       "      <th>1</th>\n",
       "      <td>male</td>\n",
       "      <td>577</td>\n",
       "    </tr>\n",
       "  </tbody>\n",
       "</table>\n",
       "</div>"
      ],
      "text/plain": [
       "      sex  count\n",
       "0  female    314\n",
       "1    male    577"
      ]
     },
     "execution_count": 39,
     "metadata": {},
     "output_type": "execute_result"
    }
   ],
   "source": [
    "df_sex.head(2)"
   ]
  },
  {
   "cell_type": "code",
   "execution_count": 40,
   "metadata": {},
   "outputs": [
    {
     "data": {
      "text/html": [
       "<div>\n",
       "<style scoped>\n",
       "    .dataframe tbody tr th:only-of-type {\n",
       "        vertical-align: middle;\n",
       "    }\n",
       "\n",
       "    .dataframe tbody tr th {\n",
       "        vertical-align: top;\n",
       "    }\n",
       "\n",
       "    .dataframe thead th {\n",
       "        text-align: right;\n",
       "    }\n",
       "</style>\n",
       "<table border=\"1\" class=\"dataframe\">\n",
       "  <thead>\n",
       "    <tr style=\"text-align: right;\">\n",
       "      <th></th>\n",
       "      <th>alive</th>\n",
       "      <th>count</th>\n",
       "    </tr>\n",
       "  </thead>\n",
       "  <tbody>\n",
       "    <tr>\n",
       "      <th>0</th>\n",
       "      <td>no</td>\n",
       "      <td>549</td>\n",
       "    </tr>\n",
       "    <tr>\n",
       "      <th>1</th>\n",
       "      <td>yes</td>\n",
       "      <td>342</td>\n",
       "    </tr>\n",
       "  </tbody>\n",
       "</table>\n",
       "</div>"
      ],
      "text/plain": [
       "  alive  count\n",
       "0    no    549\n",
       "1   yes    342"
      ]
     },
     "execution_count": 40,
     "metadata": {},
     "output_type": "execute_result"
    }
   ],
   "source": [
    "df_alive.head(3)"
   ]
  },
  {
   "cell_type": "code",
   "execution_count": 96,
   "metadata": {},
   "outputs": [
    {
     "data": {
      "image/png": "[encoded data removed]",
      "text/plain": [
       "<Figure size 1400x400 with 2 Axes>"
      ]
     },
     "metadata": {},
     "output_type": "display_data"
    }
   ],
   "source": [
    "f, g = plt.subplot_mosaic([[1,2]], figsize=(14, 4))\n",
    "\n",
    "sns.countplot(df_alive_yes,ax=g[1])\n",
    "g[1].bar_label(g[1].containers[0], fontsize=10)\n",
    "g[1].set_xlabel('Alive = Yes')\n",
    "\n",
    "\n",
    "sns.countplot(df_alive_no,ax=g[2])\n",
    "g[2].bar_label(g[2].containers[0], fontsize=10)\n",
    "g[2].set_xlabel('Alive = No')\n",
    "\n",
    "# Rotacionar os rótulos do eixo x em ambos os subplots\n",
    "for ax in g.values():\n",
    "    ax.tick_params(axis='x', labelrotation=45)\n",
    "\n",
    "plt.tight_layout()\n",
    "plt.show()"
   ]
  },
  {
   "cell_type": "code",
   "execution_count": 99,
   "metadata": {},
   "outputs": [
    {
     "data": {
      "image/png": "[encoded data removed]",
      "text/plain": [
       "<Figure size 1400x400 with 2 Axes>"
      ]
     },
     "metadata": {},
     "output_type": "display_data"
    }
   ],
   "source": [
    "import matplotlib.pyplot as plt\n",
    "import seaborn as sns\n",
    "\n",
    "# Criar a figura e os subplots com subplot_mosaic\n",
    "f, g = plt.subplot_mosaic([[1,2]], figsize=(14, 4))\n",
    "\n",
    "# Plotar o countplot para 'alive = yes'\n",
    "sns.countplot(df_alive_yes, ax=g[1])\n",
    "g[1].bar_label(g[1].containers[0], fontsize=10)\n",
    "g[1].set_xlabel('Alive = Yes')\n",
    "\n",
    "# Plotar o countplot para 'alive = no'\n",
    "sns.countplot(df_alive_no, ax=g[2])\n",
    "g[2].bar_label(g[2].containers[0], fontsize=10)\n",
    "g[2].set_xlabel('Alive = No')\n",
    "\n",
    "# Rotacionar os rótulos do eixo x apenas no primeiro subplot\n",
    "g[1].tick_params(axis='x', labelrotation=45)\n",
    "g[2].tick_params(axis='x', labelrotation=45)\n",
    "\n",
    "# Ajustar o layout e exibir o gráfico\n",
    "plt.tight_layout()\n",
    "plt.show()\n"
   ]
  }
 ],
 "metadata": {
  "kernelspec": {
   "display_name": "base",
   "language": "python",
   "name": "python3"
  },
  "language_info": {
   "codemirror_mode": {
    "name": "ipython",
    "version": 3
   },
   "file_extension": ".py",
   "mimetype": "text/x-python",
   "name": "python",
   "nbconvert_exporter": "python",
   "pygments_lexer": "ipython3",
   "version": "3.11.4"
  }
 },
 "nbformat": 4,
 "nbformat_minor": 2
}
