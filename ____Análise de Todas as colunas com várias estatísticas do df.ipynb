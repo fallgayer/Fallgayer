{
 "cells": [
  {
   "cell_type": "markdown",
   "metadata": {},
   "source": [
    "_____ Análise Estística de todas as colunas numéricas do df\n"
   ]
  },
  {
   "cell_type": "code",
   "execution_count": null,
   "metadata": {},
   "outputs": [],
   "source": []
  },
  {
   "cell_type": "code",
   "execution_count": 1,
   "metadata": {},
   "outputs": [
    {
     "name": "stdout",
     "output_type": "stream",
     "text": [
      "                            OLS Regression Results                            \n",
      "==============================================================================\n",
      "Dep. Variable:            body_mass_g   R-squared:                       0.762\n",
      "Model:                            OLS   Adj. R-squared:                  0.759\n",
      "Method:                 Least Squares   F-statistic:                     361.9\n",
      "Date:                Mon, 05 Aug 2024   Prob (F-statistic):          1.91e-105\n",
      "Time:                        11:33:31   Log-Likelihood:                -2540.4\n",
      "No. Observations:                 344   AIC:                             5089.\n",
      "Df Residuals:                     340   BIC:                             5104.\n",
      "Df Model:                           3                                         \n",
      "Covariance Type:            nonrobust                                         \n",
      "=====================================================================================\n",
      "                        coef    std err          t      P>|t|      [0.025      0.975]\n",
      "-------------------------------------------------------------------------------------\n",
      "const             -6422.4189    559.593    -11.477      0.000   -7523.119   -5321.719\n",
      "bill_length_mm        4.1855      5.311      0.788      0.431      -6.261      14.632\n",
      "bill_depth_mm        20.0193     13.652      1.466      0.143      -6.834      46.873\n",
      "flipper_length_mm    50.2561      2.468     20.361      0.000      45.401      55.111\n",
      "==============================================================================\n",
      "Omnibus:                        5.315   Durbin-Watson:                   2.027\n",
      "Prob(Omnibus):                  0.070   Jarque-Bera (JB):                5.159\n",
      "Skew:                           0.297   Prob(JB):                       0.0758\n",
      "Kurtosis:                       3.081   Cond. No.                     5.47e+03\n",
      "==============================================================================\n",
      "\n",
      "Notes:\n",
      "[1] Standard Errors assume that the covariance matrix of the errors is correctly specified.\n",
      "[2] The condition number is large, 5.47e+03. This might indicate that there are\n",
      "strong multicollinearity or other numerical problems.\n"
     ]
    }
   ],
   "source": [
    "\n",
    "import seaborn as sns\n",
    "import pandas as pd\n",
    "import statsmodels.api as sm\n",
    "\n",
    "# Carregar os dados do conjunto de dados penguins\n",
    "df_penguins = sns.load_dataset(\"penguins\")\n",
    "\n",
    "# Selecionar apenas as colunas numéricas\n",
    "df_numeric = df_penguins.select_dtypes(include=['float64', 'int64'])\n",
    "\n",
    "# Preencher valores nulos com a mediana\n",
    "df_filled = df_numeric.fillna(df_numeric.median())\n",
    "\n",
    "# Definir X e y\n",
    "X = df_filled.drop('body_mass_g', axis=1)\n",
    "y = df_filled['body_mass_g']\n",
    "\n",
    "# Adicionar uma constante ao X para ajustar o intercepto\n",
    "X = sm.add_constant(X)\n",
    "\n",
    "# Realizar regressão linear com statsmodels\n",
    "model = sm.OLS(y, X)\n",
    "results = model.fit()\n",
    "\n",
    "# Imprimir os resultados\n",
    "print(results.summary())\n",
    "\n"
   ]
  },
  {
   "cell_type": "code",
   "execution_count": null,
   "metadata": {},
   "outputs": [],
   "source": []
  }
 ],
 "metadata": {
  "kernelspec": {
   "display_name": "base",
   "language": "python",
   "name": "python3"
  },
  "language_info": {
   "codemirror_mode": {
    "name": "ipython",
    "version": 3
   },
   "file_extension": ".py",
   "mimetype": "text/x-python",
   "name": "python",
   "nbconvert_exporter": "python",
   "pygments_lexer": "ipython3",
   "version": "3.11.4"
  }
 },
 "nbformat": 4,
 "nbformat_minor": 2
}
