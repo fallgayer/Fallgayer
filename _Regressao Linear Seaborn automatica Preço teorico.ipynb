{
 "cells": [
  {
   "cell_type": "markdown",
   "metadata": {},
   "source": [
    "## Cria as Funções para a N possibilidades da Regressão Linear\n"
   ]
  },
  {
   "cell_type": "code",
   "execution_count": 7,
   "metadata": {},
   "outputs": [],
   "source": [
    "import pandas as pd\n",
    "import seaborn as sns\n",
    "import itertools\n",
    "import statsmodels.api as sm"
   ]
  },
  {
   "cell_type": "code",
   "execution_count": 12,
   "metadata": {},
   "outputs": [
    {
     "name": "stdout",
     "output_type": "stream",
     "text": [
      "     cliente  valor letra       gasto          itc         mdr\n",
      "0  cliente 1   1586     Z  183.980885   984.518951   68.611215\n",
      "1  cliente 2   4944     Q  261.453902  2525.505616  135.356355\n",
      "2  cliente 3   2149     D  226.846698  1367.436672  112.707719\n",
      "3  cliente 4   3563     A  296.044422  2648.610592   44.648588\n",
      "4  cliente 5   2433     U  221.547445  1191.942710  122.589603\n"
     ]
    }
   ],
   "source": [
    "import pandas as pd\n",
    "import numpy as np\n",
    "\n",
    "# Definindo o número de clientes\n",
    "num_clientes = 10000\n",
    "\n",
    "# Criando os dados aleatórios\n",
    "clientes = ['cliente ' + str(i) for i in range(1, num_clientes + 1)]\n",
    "valores = np.random.randint(10, 5001, size=num_clientes)  # Valores aleatórios de 50 a 10000\n",
    "\n",
    "# Criando o DataFrame\n",
    "df = pd.DataFrame({'cliente': clientes, 'valor': valores})\n",
    "\n",
    "# Adicionando uma nova coluna com letras aleatórias de A até Z\n",
    "df['letra'] = np.random.choice(list('ABCDEFGHIJKLMNOPQRSTUVWXYZ'), size=num_clientes)\n",
    "\n",
    "# Adicionando a coluna 'Gasto' com valores de 3% a 8% da coluna 'Valor'\n",
    "df['gasto'] = df['valor'] * np.random.uniform(0.03, 0.15, size=num_clientes)\n",
    "\n",
    "# Adicionando o ITC\n",
    "df['itc'] = df['valor'] * np.random.uniform(0.4, 0.8, size=num_clientes)\n",
    "\n",
    "# Adicionando o MDR \n",
    "df['mdr'] = df['valor'] * np.random.uniform(0.005, 0.06, size=num_clientes)\n",
    "\n",
    "# Mostrando as primeiras linhas do DataFrame\n",
    "print(df.head())\n"
   ]
  },
  {
   "cell_type": "code",
   "execution_count": 13,
   "metadata": {},
   "outputs": [],
   "source": [
    "# Retirando a coluna cliente...\n",
    "df = df.drop('cliente', axis=1)"
   ]
  },
  {
   "cell_type": "code",
   "execution_count": 14,
   "metadata": {},
   "outputs": [
    {
     "data": {
      "text/html": [
       "<div>\n",
       "<style scoped>\n",
       "    .dataframe tbody tr th:only-of-type {\n",
       "        vertical-align: middle;\n",
       "    }\n",
       "\n",
       "    .dataframe tbody tr th {\n",
       "        vertical-align: top;\n",
       "    }\n",
       "\n",
       "    .dataframe thead th {\n",
       "        text-align: right;\n",
       "    }\n",
       "</style>\n",
       "<table border=\"1\" class=\"dataframe\">\n",
       "  <thead>\n",
       "    <tr style=\"text-align: right;\">\n",
       "      <th></th>\n",
       "      <th>valor</th>\n",
       "      <th>letra</th>\n",
       "      <th>gasto</th>\n",
       "      <th>itc</th>\n",
       "      <th>mdr</th>\n",
       "    </tr>\n",
       "  </thead>\n",
       "  <tbody>\n",
       "    <tr>\n",
       "      <th>0</th>\n",
       "      <td>1586</td>\n",
       "      <td>Z</td>\n",
       "      <td>183.980885</td>\n",
       "      <td>984.518951</td>\n",
       "      <td>68.611215</td>\n",
       "    </tr>\n",
       "    <tr>\n",
       "      <th>1</th>\n",
       "      <td>4944</td>\n",
       "      <td>Q</td>\n",
       "      <td>261.453902</td>\n",
       "      <td>2525.505616</td>\n",
       "      <td>135.356355</td>\n",
       "    </tr>\n",
       "    <tr>\n",
       "      <th>2</th>\n",
       "      <td>2149</td>\n",
       "      <td>D</td>\n",
       "      <td>226.846698</td>\n",
       "      <td>1367.436672</td>\n",
       "      <td>112.707719</td>\n",
       "    </tr>\n",
       "    <tr>\n",
       "      <th>3</th>\n",
       "      <td>3563</td>\n",
       "      <td>A</td>\n",
       "      <td>296.044422</td>\n",
       "      <td>2648.610592</td>\n",
       "      <td>44.648588</td>\n",
       "    </tr>\n",
       "    <tr>\n",
       "      <th>4</th>\n",
       "      <td>2433</td>\n",
       "      <td>U</td>\n",
       "      <td>221.547445</td>\n",
       "      <td>1191.942710</td>\n",
       "      <td>122.589603</td>\n",
       "    </tr>\n",
       "    <tr>\n",
       "      <th>...</th>\n",
       "      <td>...</td>\n",
       "      <td>...</td>\n",
       "      <td>...</td>\n",
       "      <td>...</td>\n",
       "      <td>...</td>\n",
       "    </tr>\n",
       "    <tr>\n",
       "      <th>9995</th>\n",
       "      <td>958</td>\n",
       "      <td>N</td>\n",
       "      <td>134.485043</td>\n",
       "      <td>548.321087</td>\n",
       "      <td>20.389549</td>\n",
       "    </tr>\n",
       "    <tr>\n",
       "      <th>9996</th>\n",
       "      <td>2260</td>\n",
       "      <td>A</td>\n",
       "      <td>95.740517</td>\n",
       "      <td>1154.068747</td>\n",
       "      <td>128.130852</td>\n",
       "    </tr>\n",
       "    <tr>\n",
       "      <th>9997</th>\n",
       "      <td>2983</td>\n",
       "      <td>I</td>\n",
       "      <td>140.140311</td>\n",
       "      <td>1999.487474</td>\n",
       "      <td>49.208949</td>\n",
       "    </tr>\n",
       "    <tr>\n",
       "      <th>9998</th>\n",
       "      <td>4100</td>\n",
       "      <td>C</td>\n",
       "      <td>572.351868</td>\n",
       "      <td>2317.367377</td>\n",
       "      <td>108.305497</td>\n",
       "    </tr>\n",
       "    <tr>\n",
       "      <th>9999</th>\n",
       "      <td>4046</td>\n",
       "      <td>L</td>\n",
       "      <td>183.939134</td>\n",
       "      <td>2977.340703</td>\n",
       "      <td>59.570835</td>\n",
       "    </tr>\n",
       "  </tbody>\n",
       "</table>\n",
       "<p>10000 rows × 5 columns</p>\n",
       "</div>"
      ],
      "text/plain": [
       "      valor letra       gasto          itc         mdr\n",
       "0      1586     Z  183.980885   984.518951   68.611215\n",
       "1      4944     Q  261.453902  2525.505616  135.356355\n",
       "2      2149     D  226.846698  1367.436672  112.707719\n",
       "3      3563     A  296.044422  2648.610592   44.648588\n",
       "4      2433     U  221.547445  1191.942710  122.589603\n",
       "...     ...   ...         ...          ...         ...\n",
       "9995    958     N  134.485043   548.321087   20.389549\n",
       "9996   2260     A   95.740517  1154.068747  128.130852\n",
       "9997   2983     I  140.140311  1999.487474   49.208949\n",
       "9998   4100     C  572.351868  2317.367377  108.305497\n",
       "9999   4046     L  183.939134  2977.340703   59.570835\n",
       "\n",
       "[10000 rows x 5 columns]"
      ]
     },
     "execution_count": 14,
     "metadata": {},
     "output_type": "execute_result"
    }
   ],
   "source": [
    "df"
   ]
  },
  {
   "cell_type": "code",
   "execution_count": 15,
   "metadata": {},
   "outputs": [
    {
     "name": "stdout",
     "output_type": "stream",
     "text": [
      "  variable  coefficient combination   group\n",
      "0    const     4.167970       letra  ('A',)\n",
      "1    valor     0.029725       letra  ('A',)\n",
      "2    gasto     0.005031       letra  ('A',)\n",
      "3      itc    -0.000294       letra  ('A',)\n",
      "4    const     0.016638       letra  ('B',)\n"
     ]
    }
   ],
   "source": [
    "# Remover linhas com valores ausentes para simplificar\n",
    "df = df.dropna()\n",
    "\n",
    "# Identificar as variáveis categóricas\n",
    "categorical_cols = df.select_dtypes(include=['category', 'object']).columns.tolist()\n",
    "\n",
    "# Variável dependente e independentes para regressão\n",
    "y_col = 'mdr'  # Variável dependente (exemplo)\n",
    "x_cols = ['valor', 'gasto', 'itc']  # Variáveis independentes (exemplo)\n",
    "\n",
    "# DataFrame para armazenar os coeficientes\n",
    "results_df = pd.DataFrame()\n",
    "\n",
    "# Gerar todas as combinações de variáveis categóricas\n",
    "for r in range(1, len(categorical_cols) + 1):\n",
    "    for comb in itertools.combinations(categorical_cols, r):\n",
    "        # Filtrar DataFrame por combinação de categorias\n",
    "        grouped = df.groupby(list(comb))\n",
    "\n",
    "        for group_name, group_data in grouped:\n",
    "            # Adicionar constante para o modelo de regressão\n",
    "            X = sm.add_constant(group_data[x_cols])\n",
    "            y = group_data[y_col]\n",
    "\n",
    "            # Ajustar o modelo de regressão linear\n",
    "            model = sm.OLS(y, X).fit()\n",
    "\n",
    "            # Extrair coeficientes e adicionar ao DataFrame de resultados\n",
    "            coef_df = model.params.reset_index()\n",
    "            coef_df.columns = ['variable', 'coefficient']\n",
    "            coef_df['combination'] = ', '.join(comb)\n",
    "            coef_df['group'] = str(group_name)\n",
    "\n",
    "            results_df = pd.concat([results_df, coef_df], ignore_index=True)\n",
    "\n",
    "# Exibir os primeiros resultados\n",
    "print(results_df.head())\n"
   ]
  },
  {
   "cell_type": "code",
   "execution_count": 16,
   "metadata": {},
   "outputs": [],
   "source": [
    "results_df.to_excel('modelos preço.xlsx')"
   ]
  },
  {
   "cell_type": "code",
   "execution_count": null,
   "metadata": {},
   "outputs": [],
   "source": [
    "import os\n",
    "\n",
    "# Verifica o diretório de trabalho atual\n",
    "print(os.getcwd())\n"
   ]
  },
  {
   "cell_type": "code",
   "execution_count": 6,
   "metadata": {},
   "outputs": [],
   "source": [
    "# Altera o diretório de trabalho para um caminho desejado\n",
    "os.chdir(f'C:\\Python')\n"
   ]
  }
 ],
 "metadata": {
  "kernelspec": {
   "display_name": "base",
   "language": "python",
   "name": "python3"
  },
  "language_info": {
   "codemirror_mode": {
    "name": "ipython",
    "version": 3
   },
   "file_extension": ".py",
   "mimetype": "text/x-python",
   "name": "python",
   "nbconvert_exporter": "python",
   "pygments_lexer": "ipython3",
   "version": "3.11.4"
  }
 },
 "nbformat": 4,
 "nbformat_minor": 2
}
